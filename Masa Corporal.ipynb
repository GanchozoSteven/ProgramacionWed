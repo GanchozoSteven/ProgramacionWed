{
  "nbformat": 4,
  "nbformat_minor": 0,
  "metadata": {
    "colab": {
      "provenance": [],
      "authorship_tag": "ABX9TyOdIkKwNbmZRMIlqEcqKQWG",
      "include_colab_link": true
    },
    "kernelspec": {
      "name": "python3",
      "display_name": "Python 3"
    },
    "language_info": {
      "name": "python"
    }
  },
  "cells": [
    {
      "cell_type": "markdown",
      "metadata": {
        "id": "view-in-github",
        "colab_type": "text"
      },
      "source": [
        "<a href=\"https://colab.research.google.com/github/GanchozoSteven/ProgramacionWed/blob/main/Masa%20Corporal.ipynb\" target=\"_parent\"><img src=\"https://colab.research.google.com/assets/colab-badge.svg\" alt=\"Open In Colab\"/></a>"
      ]
    },
    {
      "cell_type": "code",
      "execution_count": null,
      "metadata": {
        "id": "zV-UeZ6VGLKR"
      },
      "outputs": [],
      "source": [
        "## Calcule el indice de la masa corporal "
      ]
    },
    {
      "cell_type": "code",
      "source": [
        "#@title Cálculo del IMC { run: \"auto\"}\n",
        "estatura = 1.65  #@param { Type: \"number\"}\n",
        "peso  = 150 #@param {type: \"number\")\n",
        "imc=peso/estatura**2\n",
        "print (imc)"
      ],
      "metadata": {
        "id": "kVzperAxJdol"
      },
      "execution_count": null,
      "outputs": []
    }
  ]
}